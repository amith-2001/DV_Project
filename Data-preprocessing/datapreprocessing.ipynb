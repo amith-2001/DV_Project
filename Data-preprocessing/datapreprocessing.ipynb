{
  "cells": [
    {
      "cell_type": "code",
      "execution_count": 1,
      "metadata": {
        "id": "hHY0e2CzTf2n",
        "outputId": "19c5e659-85e3-4759-e68a-a4921dafd65d"
      },
      "outputs": [
        {
          "name": "stdout",
          "output_type": "stream",
          "text": [
            "Requirement already satisfied: geopandas in /Users/rahul/anaconda3/lib/python3.11/site-packages (0.14.0)\n",
            "Requirement already satisfied: pandas in /Users/rahul/anaconda3/lib/python3.11/site-packages (1.5.3)\n",
            "Requirement already satisfied: pyshp in /Users/rahul/anaconda3/lib/python3.11/site-packages (2.3.1)\n",
            "Requirement already satisfied: geojson in /Users/rahul/anaconda3/lib/python3.11/site-packages (3.0.1)\n",
            "Requirement already satisfied: fiona>=1.8.21 in /Users/rahul/anaconda3/lib/python3.11/site-packages (from geopandas) (1.9.5)\n",
            "Requirement already satisfied: packaging in /Users/rahul/anaconda3/lib/python3.11/site-packages (from geopandas) (23.0)\n",
            "Requirement already satisfied: pyproj>=3.3.0 in /Users/rahul/anaconda3/lib/python3.11/site-packages (from geopandas) (3.6.1)\n",
            "Requirement already satisfied: shapely>=1.8.0 in /Users/rahul/anaconda3/lib/python3.11/site-packages (from geopandas) (2.0.2)\n",
            "Requirement already satisfied: python-dateutil>=2.8.1 in /Users/rahul/anaconda3/lib/python3.11/site-packages (from pandas) (2.8.2)\n",
            "Requirement already satisfied: pytz>=2020.1 in /Users/rahul/anaconda3/lib/python3.11/site-packages (from pandas) (2022.7)\n",
            "Requirement already satisfied: numpy>=1.21.0 in /Users/rahul/anaconda3/lib/python3.11/site-packages (from pandas) (1.24.3)\n",
            "Requirement already satisfied: attrs>=19.2.0 in /Users/rahul/anaconda3/lib/python3.11/site-packages (from fiona>=1.8.21->geopandas) (22.1.0)\n",
            "Requirement already satisfied: certifi in /Users/rahul/anaconda3/lib/python3.11/site-packages (from fiona>=1.8.21->geopandas) (2023.7.22)\n",
            "Requirement already satisfied: click~=8.0 in /Users/rahul/anaconda3/lib/python3.11/site-packages (from fiona>=1.8.21->geopandas) (8.0.4)\n",
            "Requirement already satisfied: click-plugins>=1.0 in /Users/rahul/anaconda3/lib/python3.11/site-packages (from fiona>=1.8.21->geopandas) (1.1.1)\n",
            "Requirement already satisfied: cligj>=0.5 in /Users/rahul/anaconda3/lib/python3.11/site-packages (from fiona>=1.8.21->geopandas) (0.7.2)\n",
            "Requirement already satisfied: six in /Users/rahul/anaconda3/lib/python3.11/site-packages (from fiona>=1.8.21->geopandas) (1.16.0)\n",
            "Requirement already satisfied: setuptools in /Users/rahul/anaconda3/lib/python3.11/site-packages (from fiona>=1.8.21->geopandas) (68.0.0)\n",
            "Note: you may need to restart the kernel to use updated packages.\n"
          ]
        }
      ],
      "source": [
        "%pip install geopandas pandas pyshp geojson\n"
      ]
    },
    {
      "cell_type": "code",
      "execution_count": 2,
      "metadata": {
        "id": "-lYg52PETf2q"
      },
      "outputs": [],
      "source": [
        "import pandas as pd\n",
        "import geopandas as gpd\n",
        "import geojson\n",
        "import json"
      ]
    },
    {
      "cell_type": "code",
      "execution_count": 3,
      "metadata": {
        "id": "vtwlEQ1_Tf2q",
        "outputId": "ac144a1b-c8c9-440f-c5fd-f699145aaaea"
      },
      "outputs": [
        {
          "data": {
            "text/html": [
              "<div>\n",
              "<style scoped>\n",
              "    .dataframe tbody tr th:only-of-type {\n",
              "        vertical-align: middle;\n",
              "    }\n",
              "\n",
              "    .dataframe tbody tr th {\n",
              "        vertical-align: top;\n",
              "    }\n",
              "\n",
              "    .dataframe thead th {\n",
              "        text-align: right;\n",
              "    }\n",
              "</style>\n",
              "<table border=\"1\" class=\"dataframe\">\n",
              "  <thead>\n",
              "    <tr style=\"text-align: right;\">\n",
              "      <th></th>\n",
              "      <th>Country</th>\n",
              "      <th>Code</th>\n",
              "      <th>Calling Code</th>\n",
              "      <th>Year</th>\n",
              "      <th>CO2 emission (Tons)</th>\n",
              "      <th>Population(2022)</th>\n",
              "      <th>Area</th>\n",
              "      <th>% of World</th>\n",
              "      <th>Density(km2)</th>\n",
              "    </tr>\n",
              "  </thead>\n",
              "  <tbody>\n",
              "    <tr>\n",
              "      <th>0</th>\n",
              "      <td>Afghanistan</td>\n",
              "      <td>AF</td>\n",
              "      <td>93</td>\n",
              "      <td>1750</td>\n",
              "      <td>0.0</td>\n",
              "      <td>41128771.0</td>\n",
              "      <td>652230.0</td>\n",
              "      <td>0.40%</td>\n",
              "      <td>63/km�</td>\n",
              "    </tr>\n",
              "    <tr>\n",
              "      <th>1</th>\n",
              "      <td>Afghanistan</td>\n",
              "      <td>AF</td>\n",
              "      <td>93</td>\n",
              "      <td>1751</td>\n",
              "      <td>0.0</td>\n",
              "      <td>41128771.0</td>\n",
              "      <td>652230.0</td>\n",
              "      <td>0.40%</td>\n",
              "      <td>63/km�</td>\n",
              "    </tr>\n",
              "    <tr>\n",
              "      <th>2</th>\n",
              "      <td>Afghanistan</td>\n",
              "      <td>AF</td>\n",
              "      <td>93</td>\n",
              "      <td>1752</td>\n",
              "      <td>0.0</td>\n",
              "      <td>41128771.0</td>\n",
              "      <td>652230.0</td>\n",
              "      <td>0.40%</td>\n",
              "      <td>63/km�</td>\n",
              "    </tr>\n",
              "    <tr>\n",
              "      <th>3</th>\n",
              "      <td>Afghanistan</td>\n",
              "      <td>AF</td>\n",
              "      <td>93</td>\n",
              "      <td>1753</td>\n",
              "      <td>0.0</td>\n",
              "      <td>41128771.0</td>\n",
              "      <td>652230.0</td>\n",
              "      <td>0.40%</td>\n",
              "      <td>63/km�</td>\n",
              "    </tr>\n",
              "    <tr>\n",
              "      <th>4</th>\n",
              "      <td>Afghanistan</td>\n",
              "      <td>AF</td>\n",
              "      <td>93</td>\n",
              "      <td>1754</td>\n",
              "      <td>0.0</td>\n",
              "      <td>41128771.0</td>\n",
              "      <td>652230.0</td>\n",
              "      <td>0.40%</td>\n",
              "      <td>63/km�</td>\n",
              "    </tr>\n",
              "  </tbody>\n",
              "</table>\n",
              "</div>"
            ],
            "text/plain": [
              "       Country Code Calling Code  Year  CO2 emission (Tons)  Population(2022)  \\\n",
              "0  Afghanistan   AF           93  1750                  0.0        41128771.0   \n",
              "1  Afghanistan   AF           93  1751                  0.0        41128771.0   \n",
              "2  Afghanistan   AF           93  1752                  0.0        41128771.0   \n",
              "3  Afghanistan   AF           93  1753                  0.0        41128771.0   \n",
              "4  Afghanistan   AF           93  1754                  0.0        41128771.0   \n",
              "\n",
              "       Area % of World Density(km2)  \n",
              "0  652230.0      0.40%       63/km�  \n",
              "1  652230.0      0.40%       63/km�  \n",
              "2  652230.0      0.40%       63/km�  \n",
              "3  652230.0      0.40%       63/km�  \n",
              "4  652230.0      0.40%       63/km�  "
            ]
          },
          "execution_count": 3,
          "metadata": {},
          "output_type": "execute_result"
        }
      ],
      "source": [
        "df = pd.read_csv('CO2 emission by countries.csv')\n",
        "df.head()"
      ]
    },
    {
      "cell_type": "code",
      "execution_count": 4,
      "metadata": {
        "id": "x874O3ieTf2r",
        "outputId": "b0df478a-94b4-4f4d-82c4-c479e77ee7d2"
      },
      "outputs": [
        {
          "data": {
            "text/html": [
              "<div>\n",
              "<style scoped>\n",
              "    .dataframe tbody tr th:only-of-type {\n",
              "        vertical-align: middle;\n",
              "    }\n",
              "\n",
              "    .dataframe tbody tr th {\n",
              "        vertical-align: top;\n",
              "    }\n",
              "\n",
              "    .dataframe thead th {\n",
              "        text-align: right;\n",
              "    }\n",
              "</style>\n",
              "<table border=\"1\" class=\"dataframe\">\n",
              "  <thead>\n",
              "    <tr style=\"text-align: right;\">\n",
              "      <th></th>\n",
              "      <th>Country</th>\n",
              "      <th>Year</th>\n",
              "      <th>CO2 emission (Tons)</th>\n",
              "    </tr>\n",
              "  </thead>\n",
              "  <tbody>\n",
              "    <tr>\n",
              "      <th>0</th>\n",
              "      <td>Afghanistan</td>\n",
              "      <td>1750</td>\n",
              "      <td>0.0</td>\n",
              "    </tr>\n",
              "    <tr>\n",
              "      <th>1</th>\n",
              "      <td>Afghanistan</td>\n",
              "      <td>1751</td>\n",
              "      <td>0.0</td>\n",
              "    </tr>\n",
              "    <tr>\n",
              "      <th>2</th>\n",
              "      <td>Afghanistan</td>\n",
              "      <td>1752</td>\n",
              "      <td>0.0</td>\n",
              "    </tr>\n",
              "    <tr>\n",
              "      <th>3</th>\n",
              "      <td>Afghanistan</td>\n",
              "      <td>1753</td>\n",
              "      <td>0.0</td>\n",
              "    </tr>\n",
              "    <tr>\n",
              "      <th>4</th>\n",
              "      <td>Afghanistan</td>\n",
              "      <td>1754</td>\n",
              "      <td>0.0</td>\n",
              "    </tr>\n",
              "  </tbody>\n",
              "</table>\n",
              "</div>"
            ],
            "text/plain": [
              "       Country  Year  CO2 emission (Tons)\n",
              "0  Afghanistan  1750                  0.0\n",
              "1  Afghanistan  1751                  0.0\n",
              "2  Afghanistan  1752                  0.0\n",
              "3  Afghanistan  1753                  0.0\n",
              "4  Afghanistan  1754                  0.0"
            ]
          },
          "execution_count": 4,
          "metadata": {},
          "output_type": "execute_result"
        }
      ],
      "source": [
        "df = df.loc[:, ['Country', 'Year', 'CO2 emission (Tons)']]\n",
        "df.head()"
      ]
    },
    {
      "cell_type": "code",
      "execution_count": 5,
      "metadata": {
        "id": "6t5lwKQfTf2s",
        "outputId": "392d75c8-1274-4014-bb60-dfa4b43bfcc1"
      },
      "outputs": [
        {
          "data": {
            "text/html": [
              "<div>\n",
              "<style scoped>\n",
              "    .dataframe tbody tr th:only-of-type {\n",
              "        vertical-align: middle;\n",
              "    }\n",
              "\n",
              "    .dataframe tbody tr th {\n",
              "        vertical-align: top;\n",
              "    }\n",
              "\n",
              "    .dataframe thead th {\n",
              "        text-align: right;\n",
              "    }\n",
              "</style>\n",
              "<table border=\"1\" class=\"dataframe\">\n",
              "  <thead>\n",
              "    <tr style=\"text-align: right;\">\n",
              "      <th></th>\n",
              "      <th>Year</th>\n",
              "      <th>Total World Emission (Tons)</th>\n",
              "    </tr>\n",
              "  </thead>\n",
              "  <tbody>\n",
              "    <tr>\n",
              "      <th>0</th>\n",
              "      <td>1750</td>\n",
              "      <td>9350528.0</td>\n",
              "    </tr>\n",
              "    <tr>\n",
              "      <th>1</th>\n",
              "      <td>1751</td>\n",
              "      <td>18701056.0</td>\n",
              "    </tr>\n",
              "    <tr>\n",
              "      <th>2</th>\n",
              "      <td>1752</td>\n",
              "      <td>28055248.0</td>\n",
              "    </tr>\n",
              "    <tr>\n",
              "      <th>3</th>\n",
              "      <td>1753</td>\n",
              "      <td>37409440.0</td>\n",
              "    </tr>\n",
              "    <tr>\n",
              "      <th>4</th>\n",
              "      <td>1754</td>\n",
              "      <td>46767296.0</td>\n",
              "    </tr>\n",
              "  </tbody>\n",
              "</table>\n",
              "</div>"
            ],
            "text/plain": [
              "   Year  Total World Emission (Tons)\n",
              "0  1750                    9350528.0\n",
              "1  1751                   18701056.0\n",
              "2  1752                   28055248.0\n",
              "3  1753                   37409440.0\n",
              "4  1754                   46767296.0"
            ]
          },
          "execution_count": 5,
          "metadata": {},
          "output_type": "execute_result"
        }
      ],
      "source": [
        "total_world_emissions = df.groupby('Year')['CO2 emission (Tons)'].sum().reset_index()\n",
        "total_world_emissions = total_world_emissions.rename(columns={'CO2 emission (Tons)': 'Total World Emission (Tons)'})\n",
        "total_world_emissions.head()"
      ]
    },
    {
      "cell_type": "code",
      "execution_count": 6,
      "metadata": {
        "id": "OSWUSBXRTf2s",
        "outputId": "9d4d7f8e-a623-4870-8d7e-4aacaf1bedf1"
      },
      "outputs": [
        {
          "data": {
            "text/html": [
              "<div>\n",
              "<style scoped>\n",
              "    .dataframe tbody tr th:only-of-type {\n",
              "        vertical-align: middle;\n",
              "    }\n",
              "\n",
              "    .dataframe tbody tr th {\n",
              "        vertical-align: top;\n",
              "    }\n",
              "\n",
              "    .dataframe thead th {\n",
              "        text-align: right;\n",
              "    }\n",
              "</style>\n",
              "<table border=\"1\" class=\"dataframe\">\n",
              "  <thead>\n",
              "    <tr style=\"text-align: right;\">\n",
              "      <th></th>\n",
              "      <th>Country</th>\n",
              "      <th>Year</th>\n",
              "      <th>CO2 emission (Tons)</th>\n",
              "      <th>Total World Emission (Tons)</th>\n",
              "    </tr>\n",
              "  </thead>\n",
              "  <tbody>\n",
              "    <tr>\n",
              "      <th>0</th>\n",
              "      <td>Afghanistan</td>\n",
              "      <td>1750</td>\n",
              "      <td>0.0</td>\n",
              "      <td>9350528.0</td>\n",
              "    </tr>\n",
              "    <tr>\n",
              "      <th>1</th>\n",
              "      <td>Albania</td>\n",
              "      <td>1750</td>\n",
              "      <td>0.0</td>\n",
              "      <td>9350528.0</td>\n",
              "    </tr>\n",
              "    <tr>\n",
              "      <th>2</th>\n",
              "      <td>Algeria</td>\n",
              "      <td>1750</td>\n",
              "      <td>0.0</td>\n",
              "      <td>9350528.0</td>\n",
              "    </tr>\n",
              "    <tr>\n",
              "      <th>3</th>\n",
              "      <td>Andorra</td>\n",
              "      <td>1750</td>\n",
              "      <td>0.0</td>\n",
              "      <td>9350528.0</td>\n",
              "    </tr>\n",
              "    <tr>\n",
              "      <th>4</th>\n",
              "      <td>Angola</td>\n",
              "      <td>1750</td>\n",
              "      <td>0.0</td>\n",
              "      <td>9350528.0</td>\n",
              "    </tr>\n",
              "  </tbody>\n",
              "</table>\n",
              "</div>"
            ],
            "text/plain": [
              "       Country  Year  CO2 emission (Tons)  Total World Emission (Tons)\n",
              "0  Afghanistan  1750                  0.0                    9350528.0\n",
              "1      Albania  1750                  0.0                    9350528.0\n",
              "2      Algeria  1750                  0.0                    9350528.0\n",
              "3      Andorra  1750                  0.0                    9350528.0\n",
              "4       Angola  1750                  0.0                    9350528.0"
            ]
          },
          "execution_count": 6,
          "metadata": {},
          "output_type": "execute_result"
        }
      ],
      "source": [
        "df = df.merge(total_world_emissions, on='Year')\n",
        "# # Rename the 'CO2 emission (Tons)' column from df2\n",
        "# df = df.rename(columns={'Total World Emission (Tons)_y': 'Total World Emission (Tons)'})\n",
        "# # Drop the duplicate 'CO2 emission (Tons)' column\n",
        "# df = df.drop(columns=['Total World Emission (Tons)_x'])\n",
        "# Display the final DataFrame with formatting\n",
        "pd.options.display.float_format = '{:.1f}'.format\n",
        "df.head()"
      ]
    },
    {
      "cell_type": "code",
      "execution_count": 7,
      "metadata": {
        "id": "CZr8Z6fdTf2t"
      },
      "outputs": [],
      "source": [
        "output_folder = '../D3js-Visualization/data/'\n",
        "output_file = output_folder + 'emissions_processed.csv'\n",
        "\n",
        "df.to_csv(output_file, index=False)"
      ]
    },
    {
      "cell_type": "code",
      "execution_count": 8,
      "metadata": {
        "id": "poA7OJ2hTf2u",
        "outputId": "ae1a9e5f-183c-483d-aeb3-502ef713f2e9"
      },
      "outputs": [
        {
          "name": "stderr",
          "output_type": "stream",
          "text": [
            "/var/folders/wp/wvs3l1cx7qj62cdcp32j1kpc0000gn/T/ipykernel_54117/1607004158.py:2: FutureWarning: The geopandas.dataset module is deprecated and will be removed in GeoPandas 1.0. You can get the original 'naturalearth_lowres' data from https://www.naturalearthdata.com/downloads/110m-cultural-vectors/.\n",
            "  world = gpd.read_file(gpd.datasets.get_path('naturalearth_lowres'))\n"
          ]
        }
      ],
      "source": [
        "# Download the Natural Earth dataset for countries with geometries\n",
        "world = gpd.read_file(gpd.datasets.get_path('naturalearth_lowres'))\n",
        "\n",
        "output_file = 'world_data.geojson'\n",
        "\n",
        "world.to_file(output_file, driver='GeoJSON')\n"
      ]
    },
    {
      "cell_type": "code",
      "execution_count": 9,
      "metadata": {
        "id": "4rT5T96kUIGQ"
      },
      "outputs": [],
      "source": [
        "# path_processed = \"../D3js-Visualization/data/emissions_processed.csv\"\n",
        "path_geojson = \"world_data.geojson\""
      ]
    },
    {
      "cell_type": "code",
      "execution_count": 10,
      "metadata": {
        "colab": {
          "base_uri": "https://localhost:8080/",
          "height": 177
        },
        "id": "gq1oF0hzUKK8",
        "outputId": "7e5b2ec5-4a4a-474c-953e-a5e68de4240b"
      },
      "outputs": [
        {
          "data": {
            "text/html": [
              "<div>\n",
              "<style scoped>\n",
              "    .dataframe tbody tr th:only-of-type {\n",
              "        vertical-align: middle;\n",
              "    }\n",
              "\n",
              "    .dataframe tbody tr th {\n",
              "        vertical-align: top;\n",
              "    }\n",
              "\n",
              "    .dataframe thead th {\n",
              "        text-align: right;\n",
              "    }\n",
              "</style>\n",
              "<table border=\"1\" class=\"dataframe\">\n",
              "  <thead>\n",
              "    <tr style=\"text-align: right;\">\n",
              "      <th></th>\n",
              "      <th>Country</th>\n",
              "      <th>Year</th>\n",
              "      <th>CO2 emission (Tons)</th>\n",
              "      <th>Total World Emission (Tons)</th>\n",
              "    </tr>\n",
              "  </thead>\n",
              "  <tbody>\n",
              "    <tr>\n",
              "      <th>0</th>\n",
              "      <td>Afghanistan</td>\n",
              "      <td>1750</td>\n",
              "      <td>0.0</td>\n",
              "      <td>9350528.0</td>\n",
              "    </tr>\n",
              "    <tr>\n",
              "      <th>1</th>\n",
              "      <td>Albania</td>\n",
              "      <td>1750</td>\n",
              "      <td>0.0</td>\n",
              "      <td>9350528.0</td>\n",
              "    </tr>\n",
              "    <tr>\n",
              "      <th>2</th>\n",
              "      <td>Algeria</td>\n",
              "      <td>1750</td>\n",
              "      <td>0.0</td>\n",
              "      <td>9350528.0</td>\n",
              "    </tr>\n",
              "    <tr>\n",
              "      <th>3</th>\n",
              "      <td>Andorra</td>\n",
              "      <td>1750</td>\n",
              "      <td>0.0</td>\n",
              "      <td>9350528.0</td>\n",
              "    </tr>\n",
              "    <tr>\n",
              "      <th>4</th>\n",
              "      <td>Angola</td>\n",
              "      <td>1750</td>\n",
              "      <td>0.0</td>\n",
              "      <td>9350528.0</td>\n",
              "    </tr>\n",
              "    <tr>\n",
              "      <th>...</th>\n",
              "      <td>...</td>\n",
              "      <td>...</td>\n",
              "      <td>...</td>\n",
              "      <td>...</td>\n",
              "    </tr>\n",
              "    <tr>\n",
              "      <th>59615</th>\n",
              "      <td>Vietnam</td>\n",
              "      <td>2020</td>\n",
              "      <td>3977272058.0</td>\n",
              "      <td>1654087724978.0</td>\n",
              "    </tr>\n",
              "    <tr>\n",
              "      <th>59616</th>\n",
              "      <td>Wallis and Futuna</td>\n",
              "      <td>2020</td>\n",
              "      <td>507247.0</td>\n",
              "      <td>1654087724978.0</td>\n",
              "    </tr>\n",
              "    <tr>\n",
              "      <th>59617</th>\n",
              "      <td>Yemen</td>\n",
              "      <td>2020</td>\n",
              "      <td>624654156.0</td>\n",
              "      <td>1654087724978.0</td>\n",
              "    </tr>\n",
              "    <tr>\n",
              "      <th>59618</th>\n",
              "      <td>Zambia</td>\n",
              "      <td>2020</td>\n",
              "      <td>247987833.0</td>\n",
              "      <td>1654087724978.0</td>\n",
              "    </tr>\n",
              "    <tr>\n",
              "      <th>59619</th>\n",
              "      <td>Zimbabwe</td>\n",
              "      <td>2020</td>\n",
              "      <td>779383468.0</td>\n",
              "      <td>1654087724978.0</td>\n",
              "    </tr>\n",
              "  </tbody>\n",
              "</table>\n",
              "<p>59620 rows × 4 columns</p>\n",
              "</div>"
            ],
            "text/plain": [
              "                 Country  Year  CO2 emission (Tons)  \\\n",
              "0            Afghanistan  1750                  0.0   \n",
              "1                Albania  1750                  0.0   \n",
              "2                Algeria  1750                  0.0   \n",
              "3                Andorra  1750                  0.0   \n",
              "4                 Angola  1750                  0.0   \n",
              "...                  ...   ...                  ...   \n",
              "59615            Vietnam  2020         3977272058.0   \n",
              "59616  Wallis and Futuna  2020             507247.0   \n",
              "59617              Yemen  2020          624654156.0   \n",
              "59618             Zambia  2020          247987833.0   \n",
              "59619           Zimbabwe  2020          779383468.0   \n",
              "\n",
              "       Total World Emission (Tons)  \n",
              "0                        9350528.0  \n",
              "1                        9350528.0  \n",
              "2                        9350528.0  \n",
              "3                        9350528.0  \n",
              "4                        9350528.0  \n",
              "...                            ...  \n",
              "59615              1654087724978.0  \n",
              "59616              1654087724978.0  \n",
              "59617              1654087724978.0  \n",
              "59618              1654087724978.0  \n",
              "59619              1654087724978.0  \n",
              "\n",
              "[59620 rows x 4 columns]"
            ]
          },
          "execution_count": 10,
          "metadata": {},
          "output_type": "execute_result"
        }
      ],
      "source": [
        "df"
      ]
    },
    {
      "cell_type": "code",
      "execution_count": 11,
      "metadata": {
        "colab": {
          "base_uri": "https://localhost:8080/",
          "height": 246
        },
        "id": "jxA3DkjfUPdE",
        "outputId": "a8b0a5ab-c8f5-471e-d0f5-c09ce7e0ca7f"
      },
      "outputs": [],
      "source": [
        "import json\n",
        "with open(path_geojson, 'r') as geojson_file:\n",
        "    geojson_data = json.load(geojson_file)\n",
        "\n",
        "\n",
        "# # Print the loaded GeoJSON data\n",
        "# print(json.dumps(geojson_data))  # This will print the data with indentation for better readability\n"
      ]
    },
    {
      "cell_type": "code",
      "execution_count": 12,
      "metadata": {},
      "outputs": [
        {
          "data": {
            "text/plain": [
              "['Dem. Rep. Congo',\n",
              " 'Timor-Leste',\n",
              " 'Eq. Guinea',\n",
              " 'N. Cyprus',\n",
              " 'Fr. S. Antarctic Lands',\n",
              " 'Dominican Rep.',\n",
              " 'Falkland Is.',\n",
              " 'eSwatini',\n",
              " \"Côte d'Ivoire\",\n",
              " 'Somaliland',\n",
              " 'W. Sahara',\n",
              " 'Bosnia and Herz.',\n",
              " 'United States of America',\n",
              " 'S. Sudan',\n",
              " 'Solomon Is.',\n",
              " 'Central African Rep.']"
            ]
          },
          "execution_count": 12,
          "metadata": {},
          "output_type": "execute_result"
        }
      ],
      "source": [
        "countries_csv = []\n",
        "countries_geojson = []\n",
        "for feature in geojson_data['features']:\n",
        "    countries_geojson.append(feature['properties']['name'])\n",
        "\n",
        "for index, row in df.iterrows():\n",
        "    country = row['Country']\n",
        "    if country not in countries_csv:\n",
        "        countries_csv.append(country)\n",
        "\n",
        "\n",
        "result= list(set(countries_geojson) - set(countries_csv))\n",
        "result"
      ]
    },
    {
      "cell_type": "code",
      "execution_count": 13,
      "metadata": {
        "colab": {
          "base_uri": "https://localhost:8080/",
          "height": 246
        },
        "id": "Qij38bvqURS0",
        "outputId": "fddae144-32d3-47e6-f7b3-251a91c85abd"
      },
      "outputs": [],
      "source": [
        "# Create the dictionary\n",
        "emission_dict = {}\n",
        "custom_dict = {\n",
        "    'Timor': 'Timor-Leste',\n",
        "    'United States': 'United States of America',\n",
        "    'Eswatini': 'eSwatini',\n",
        "    'Bosnia and Herzegovina': 'Bosnia and Herz.',\n",
        "    'Solomon Islands': 'Solomon Is.',\n",
        "    'Central African Republic': 'Central African Rep.',\n",
        "    'South Sudan': 'S. Sudan',\n",
        "    \"Cote d'Ivoire\": \"Côte d'Ivoire\",\n",
        "    \"Equatorial Guinea\": \"Eq. Guinea\",\n",
        "    \"Dominican Republic\": \"Dominican Rep.\",\n",
        "    \"Democratic Republic of Congo\": \"Dem. Rep. Congo\",\n",
        "    \"Antartica\": \"Fr. S. Antarctic Lands\"\n",
        "}\n",
        "\n",
        "for index, row in df.iterrows():\n",
        "    country = row['Country']\n",
        "    year = int(row['Year'])\n",
        "    # print(country,year)\n",
        "    emission = row['CO2 emission (Tons)']\n",
        "    if country in custom_dict:\n",
        "        country = custom_dict[country]\n",
        "    if country not in emission_dict:\n",
        "        emission_dict[country] = {}\n",
        "    emission_dict[country][str(year)] = emission\n",
        "\n",
        "# Print the resulting dictionary\n",
        "# print(emission_dict,indent=2)\n",
        "# print(json.dumps(emission_dict))\n"
      ]
    },
    {
      "cell_type": "code",
      "execution_count": 14,
      "metadata": {
        "colab": {
          "base_uri": "https://localhost:8080/",
          "height": 246
        },
        "id": "TNIblReCUTHa",
        "outputId": "62bce713-03d0-402f-9e76-5a979eece704"
      },
      "outputs": [],
      "source": [
        "# Assuming geojson_data is the loaded GeoJSON data (as a Python dictionary) and emission_dict is the dictionary you created\n",
        "\n",
        "# Iterate through the features in the GeoJSON data\n",
        "custom_emission_dict={}\n",
        "for i in range(1750,2021):\n",
        "    custom_emission_dict[str(i)] = 0\n",
        "for feature in geojson_data['features']:\n",
        "    country_name = feature['properties']['name']\n",
        "\n",
        "    if country_name in emission_dict:\n",
        "        feature['properties']['emission_data'] = emission_dict[country_name]\n",
        "    else:\n",
        "        feature['properties']['emission_data'] = custom_emission_dict\n",
        "# Save the updated GeoJSON data to a new file\n",
        "with open('../D3js-Visualization/data/world_data.geojson', 'w') as outfile:\n",
        "    json.dump(geojson_data, outfile)\n"
      ]
    }
  ],
  "metadata": {
    "colab": {
      "provenance": []
    },
    "kernelspec": {
      "display_name": "base",
      "language": "python",
      "name": "python3"
    },
    "language_info": {
      "codemirror_mode": {
        "name": "ipython",
        "version": 3
      },
      "file_extension": ".py",
      "mimetype": "text/x-python",
      "name": "python",
      "nbconvert_exporter": "python",
      "pygments_lexer": "ipython3",
      "version": "3.11.4"
    }
  },
  "nbformat": 4,
  "nbformat_minor": 0
}
